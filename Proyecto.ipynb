{
 "cells": [
  {
   "cell_type": "code",
   "execution_count": null,
   "id": "7415641f",
   "metadata": {},
   "outputs": [
    {
     "name": "stdout",
     "output_type": "stream",
     "text": [
      "felixz felixz felixz  cumpleaños andres\n"
     ]
    }
   ],
   "source": [
    "x=str(input(\"ingrese su nombre: \"))\n",
    "y=\"feliz \"\n",
    "z=\"cumpleaños\"\n",
    "\n",
    "print(y*3,z,x)"
   ]
  },
  {
   "cell_type": "markdown",
   "id": "aff92945",
   "metadata": {},
   "source": [
    "mi primer input"
   ]
  }
 ],
 "metadata": {
  "kernelspec": {
   "display_name": "venv",
   "language": "python",
   "name": "python3"
  },
  "language_info": {
   "codemirror_mode": {
    "name": "ipython",
    "version": 3
   },
   "file_extension": ".py",
   "mimetype": "text/x-python",
   "name": "python",
   "nbconvert_exporter": "python",
   "pygments_lexer": "ipython3",
   "version": "3.13.6"
  }
 },
 "nbformat": 4,
 "nbformat_minor": 5
}
